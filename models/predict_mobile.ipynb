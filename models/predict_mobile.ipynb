{
 "cells": [
  {
   "cell_type": "code",
   "execution_count": 1,
   "metadata": {},
   "outputs": [],
   "source": [
    "from utils import read_data, simple_predictors, evaluation, rollingCV, viz, knn, random_forest, parameters, predictions, regression\n",
    "import pandas as pd\n",
    "from IPython.display import display"
   ]
  },
  {
   "cell_type": "code",
   "execution_count": 2,
   "metadata": {},
   "outputs": [],
   "source": [
    "RD = read_data.ReadData()\n",
    "viz = viz.Viz()\n",
    "Eval = evaluation.Evaluation()\n",
    "hd = RD.read_Hd_Mobile()\n",
    "K = 8\n",
    "RCV = rollingCV.RollingCV(hd[::-1], K, 30, 14, 30)\n",
    "SimplePredictors = simple_predictors.SimplePredictors(hd)\n",
    "KNN = knn.KNN(Eval, 60)\n",
    "RandomForest = random_forest.RandomForest(Eval)\n",
    "Reg = regression.Regression()"
   ]
  },
  {
   "cell_type": "code",
   "execution_count": 3,
   "metadata": {},
   "outputs": [],
   "source": [
    "Params = parameters.Parameters()\n",
    "Predictions = predictions.Predictions()\n",
    "points_of_sales = sorted(hd.id.unique())"
   ]
  },
  {
   "cell_type": "markdown",
   "metadata": {},
   "source": [
    "### Mean sale value from last N sale days"
   ]
  },
  {
   "cell_type": "code",
   "execution_count": 4,
   "metadata": {},
   "outputs": [],
   "source": [
    "mean_predictions = pd.DataFrame()\n",
    "for k in range(1, K+1):\n",
    "    pred = pd.DataFrame()\n",
    "    for point in points_of_sales:\n",
    "        test_set = RCV.getKthTestSet(k, id=point)\n",
    "        for index, row in test_set.iterrows():\n",
    "            pred = pd.concat([pred, SimplePredictors.avg(row.dzien_rozliczenia, 3, row.id)], ignore_index=True)\n",
    "    pred['k'] = k\n",
    "    mean_predictions = pd.concat([mean_predictions, pred], ignore_index=True)\n",
    "mean_predictions.to_csv('predictions_mobile/mean_predictions.csv')"
   ]
  },
  {
   "cell_type": "markdown",
   "metadata": {},
   "source": [
    "### Sale value from N days back"
   ]
  },
  {
   "cell_type": "code",
   "execution_count": 5,
   "metadata": {},
   "outputs": [],
   "source": [
    "n_back_predictions = pd.DataFrame()\n",
    "for k in range(1, K+1):\n",
    "    pred = pd.DataFrame()\n",
    "    for point in points_of_sales:\n",
    "        test_set = RCV.getKthTestSet(k, id=point)\n",
    "        for index, row in test_set.iterrows():\n",
    "            pred = pd.concat([pred, SimplePredictors.back_n_days(row.dzien_rozliczenia, 7, row.id)], ignore_index=True)\n",
    "    pred['k'] = k\n",
    "    n_back_predictions = pd.concat([n_back_predictions, pred], ignore_index=True)\n",
    "n_back_predictions.to_csv('predictions_mobile/n_back_predictions.csv')"
   ]
  },
  {
   "cell_type": "markdown",
   "metadata": {},
   "source": [
    "### Mean value from same days in last N weeks"
   ]
  },
  {
   "cell_type": "code",
   "execution_count": 6,
   "metadata": {},
   "outputs": [],
   "source": [
    "n_weeks_predictions = pd.DataFrame()\n",
    "for k in range(1, K+1):\n",
    "    pred = pd.DataFrame()\n",
    "    for point in points_of_sales:\n",
    "        test_set = RCV.getKthTestSet(k, id=point)\n",
    "        for index, row in test_set.iterrows():\n",
    "            pred = pd.concat([pred, SimplePredictors.same_days_last_n_weeks_avg(row.dzien_rozliczenia, 3, row.id)], ignore_index=True)\n",
    "    pred['k'] = k\n",
    "    n_weeks_predictions = pd.concat([n_weeks_predictions, pred], ignore_index=True)\n",
    "n_weeks_predictions.to_csv('predictions_mobile/n_weeks_predictions.csv')"
   ]
  },
  {
   "cell_type": "markdown",
   "metadata": {},
   "source": [
    "### EWMA"
   ]
  },
  {
   "cell_type": "code",
   "execution_count": 7,
   "metadata": {},
   "outputs": [],
   "source": [
    "ewma_predictions = pd.DataFrame()\n",
    "for k in range(1, K+1):\n",
    "    pred = pd.DataFrame()\n",
    "    for point in points_of_sales:\n",
    "        test_set = RCV.getKthTestSet(k, id=point)\n",
    "        for index, row in test_set.iterrows():\n",
    "            pred = pd.concat([pred, SimplePredictors.EWMA(row.dzien_rozliczenia, 3, row.id)], ignore_index=True)\n",
    "    pred['k'] = k\n",
    "    ewma_predictions = pd.concat([ewma_predictions, pred], ignore_index=True)\n",
    "ewma_predictions.to_csv('predictions_mobile/ewma_predictions.csv')"
   ]
  },
  {
   "cell_type": "markdown",
   "metadata": {},
   "source": [
    "### KNN (all points)"
   ]
  },
  {
   "cell_type": "code",
   "execution_count": 8,
   "metadata": {},
   "outputs": [],
   "source": [
    "knn_all_predictions = pd.DataFrame()\n",
    "for k in range(1, K+1):\n",
    "    train = RCV.getKthTrainSet(k, isML=True, isRegression=True)\n",
    "    test = RCV.getKthTestSet(k, isML=True, isRegression=True)\n",
    "    parameters = Params.get_parameters_mobile(\"knn\", k)\n",
    "    pred = KNN.knn(train, test, parameters)\n",
    "    pred['k'] = k\n",
    "    pred['dzien_rozliczenia'] = test['dzien_rozliczenia'].values\n",
    "    knn_all_predictions = pd.concat([knn_all_predictions, pred], ignore_index=True)\n",
    "knn_all_predictions.to_csv('predictions_mobile/knn_all_predictions.csv')"
   ]
  },
  {
   "cell_type": "markdown",
   "metadata": {},
   "source": [
    "### Random Forest (all points)"
   ]
  },
  {
   "cell_type": "code",
   "execution_count": 9,
   "metadata": {},
   "outputs": [],
   "source": [
    "rf_all_predictions = pd.DataFrame()\n",
    "for k in range(1, K+1):\n",
    "    train = RCV.getKthTrainSet(k, isML=True, isRegression=True)\n",
    "    test = RCV.getKthTestSet(k, isML=True, isRegression=True)\n",
    "    parameters = Params.get_parameters_mobile(\"rf\", k)\n",
    "    pred = RandomForest.randForest(train, test, parameters)\n",
    "    pred['k'] = k\n",
    "    pred['dzien_rozliczenia'] = test['dzien_rozliczenia'].values\n",
    "    rf_all_predictions = pd.concat([rf_all_predictions, pred], ignore_index=True)\n",
    "rf_all_predictions.to_csv('predictions_mobile/rf_all_predictions.csv')"
   ]
  }
 ],
 "metadata": {
  "kernelspec": {
   "display_name": "Python 3",
   "language": "python",
   "name": "python3"
  },
  "language_info": {
   "codemirror_mode": {
    "name": "ipython",
    "version": 3
   },
   "file_extension": ".py",
   "mimetype": "text/x-python",
   "name": "python",
   "nbconvert_exporter": "python",
   "pygments_lexer": "ipython3",
   "version": "3.11.6"
  }
 },
 "nbformat": 4,
 "nbformat_minor": 2
}
